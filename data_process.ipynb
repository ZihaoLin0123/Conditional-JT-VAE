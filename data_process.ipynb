{
 "cells": [
  {
   "cell_type": "code",
   "execution_count": 4,
   "metadata": {},
   "outputs": [],
   "source": [
    "with open(\"./JTVAE/data/zinc/train.txt\") as f:\n",
    "    data = [line.strip(\"\\r\\n \").split()[0] for line in f]\n",
    "    \n",
    "with open(\"./JTVAE/data/zinc/train.txt\") as f:\n",
    "    data2 = [line for line in f]"
   ]
  },
  {
   "cell_type": "code",
   "execution_count": 6,
   "metadata": {},
   "outputs": [],
   "source": [
    "data_toy = data[:5000]"
   ]
  },
  {
   "cell_type": "code",
   "execution_count": 7,
   "metadata": {},
   "outputs": [],
   "source": [
    "with open(\"./JTVAE/data/zinc/train_toy.txt\", 'w') as f:\n",
    "    for item in data_toy:\n",
    "        f.write(\"%s\\n\" % item)"
   ]
  },
  {
   "cell_type": "code",
   "execution_count": 11,
   "metadata": {},
   "outputs": [],
   "source": [
    "with open(\"./JTVAE/data/zinc/valid.txt\") as f:\n",
    "    data_valid = [line.strip(\"\\r\\n \").split()[0] for line in f]\n",
    "\n",
    "data_valid_toy = data_valid[:500]\n",
    "with open(\"./JTVAE/data/zinc/valid_toy.txt\", 'w') as f:\n",
    "    for item in data_valid_toy:\n",
    "        f.write(\"%s\\n\" % item)"
   ]
  },
  {
   "cell_type": "code",
   "execution_count": 62,
   "metadata": {},
   "outputs": [
    {
     "data": {
      "text/plain": [
       "24445"
      ]
     },
     "execution_count": 62,
     "metadata": {},
     "output_type": "execute_result"
    }
   ],
   "source": [
    "len(data_valid)"
   ]
  },
  {
   "cell_type": "code",
   "execution_count": 12,
   "metadata": {},
   "outputs": [],
   "source": [
    "with open(\"./JTVAE/data/zinc/test.txt\") as f:\n",
    "    data_test = [line.strip(\"\\r\\n \").split()[0] for line in f]\n",
    "\n",
    "data_test_toy = data_test[:500]\n",
    "with open(\"./JTVAE/data/zinc/test_toy.txt\", 'w') as f:\n",
    "    for item in data_test_toy:\n",
    "        f.write(\"%s\\n\" % item)"
   ]
  },
  {
   "cell_type": "code",
   "execution_count": 64,
   "metadata": {},
   "outputs": [
    {
     "data": {
      "text/plain": [
       "5000"
      ]
     },
     "execution_count": 64,
     "metadata": {},
     "output_type": "execute_result"
    }
   ],
   "source": [
    "len(data_test)"
   ]
  },
  {
   "cell_type": "code",
   "execution_count": 16,
   "metadata": {},
   "outputs": [],
   "source": [
    "with open(\"./JTVAE/data/zinc/train.logP-SA\") as f:\n",
    "    data_logp = [line.strip(\"\\r\\n \").split()[0] for line in f]\n",
    "    \n",
    "data_logp_toy = data_logp[:5000]\n",
    "with open(\"./JTVAE/data/zinc/train_toy.logP-SA\", 'w') as f:\n",
    "    for item in data_logp_toy:\n",
    "        f.write(\"%s\\n\" % item)"
   ]
  },
  {
   "cell_type": "code",
   "execution_count": 18,
   "metadata": {},
   "outputs": [],
   "source": [
    "with open(\"./JTVAE/data/zinc/opt.test.logP-SA\") as f:\n",
    "    data_logp = [line.strip(\"\\r\\n \").split()[0] for line in f]\n",
    "    \n",
    "data_logp_toy = data_logp[:5000]\n",
    "with open(\"./JTVAE/data/zinc/opt.test_toy.logP-SA\", 'w') as f:\n",
    "    for item in data_logp_toy:\n",
    "        f.write(\"%s\\n\" % item)"
   ]
  },
  {
   "cell_type": "code",
   "execution_count": 19,
   "metadata": {},
   "outputs": [],
   "source": [
    "with open(\"./JTVAE/data/zinc/opt.valid.logP-SA\") as f:\n",
    "    data_logp = [line.strip(\"\\r\\n \").split()[0] for line in f]\n",
    "    \n",
    "data_logp_toy = data_logp[:5000]\n",
    "with open(\"./JTVAE/data/zinc/opt.valid_toy.logP-SA\", 'w') as f:\n",
    "    for item in data_logp_toy:\n",
    "        f.write(\"%s\\n\" % item)"
   ]
  },
  {
   "cell_type": "code",
   "execution_count": null,
   "metadata": {},
   "outputs": [],
   "source": []
  },
  {
   "cell_type": "code",
   "execution_count": null,
   "metadata": {},
   "outputs": [],
   "source": []
  },
  {
   "cell_type": "code",
   "execution_count": 22,
   "metadata": {},
   "outputs": [],
   "source": [
    "import pandas as pd"
   ]
  },
  {
   "cell_type": "code",
   "execution_count": 20,
   "metadata": {},
   "outputs": [],
   "source": [
    "with open(\"./JTVAE/data/zinc/train.txt\") as f:\n",
    "    data = [line.strip(\"\\r\\n \").split()[0] for line in f]"
   ]
  },
  {
   "cell_type": "code",
   "execution_count": 23,
   "metadata": {},
   "outputs": [
    {
     "data": {
      "text/html": [
       "<div>\n",
       "<style scoped>\n",
       "    .dataframe tbody tr th:only-of-type {\n",
       "        vertical-align: middle;\n",
       "    }\n",
       "\n",
       "    .dataframe tbody tr th {\n",
       "        vertical-align: top;\n",
       "    }\n",
       "\n",
       "    .dataframe thead th {\n",
       "        text-align: right;\n",
       "    }\n",
       "</style>\n",
       "<table border=\"1\" class=\"dataframe\">\n",
       "  <thead>\n",
       "    <tr style=\"text-align: right;\">\n",
       "      <th></th>\n",
       "      <th>smiles</th>\n",
       "      <th>PEOE_VSA_POS</th>\n",
       "      <th>vsa_other</th>\n",
       "      <th>vsurf_DW12</th>\n",
       "      <th>vsurf_ID3</th>\n",
       "      <th>lnK</th>\n",
       "    </tr>\n",
       "  </thead>\n",
       "  <tbody>\n",
       "    <tr>\n",
       "      <th>0</th>\n",
       "      <td>Fc1c(NC(=O)Cc2c3c(oc2)ccc(C(C)(C)C)c3)cccc1</td>\n",
       "      <td>246.68031</td>\n",
       "      <td>45.97028</td>\n",
       "      <td>0.5</td>\n",
       "      <td>0.75540346</td>\n",
       "      <td>-10.11862364</td>\n",
       "    </tr>\n",
       "    <tr>\n",
       "      <th>1</th>\n",
       "      <td>N(c1cc(-c2n(C)cnn2)cnc1)C1C[C@@H](C)C[C@H](C)C1</td>\n",
       "      <td>252.55515</td>\n",
       "      <td>35.981079</td>\n",
       "      <td>0.5</td>\n",
       "      <td>0.77122784</td>\n",
       "      <td>-10.71926165</td>\n",
       "    </tr>\n",
       "    <tr>\n",
       "      <th>2</th>\n",
       "      <td>O=C([C@H](Oc1ccc(-c2ccc(C#N)cc2)cc1)c1ccccc1)N...</td>\n",
       "      <td>257.6842</td>\n",
       "      <td>33.249039</td>\n",
       "      <td>0.5</td>\n",
       "      <td>0.76718211</td>\n",
       "      <td>-10.95060530</td>\n",
       "    </tr>\n",
       "    <tr>\n",
       "      <th>3</th>\n",
       "      <td>O=C(OCC)[C@H]1CN(C(=O)c2nc(-c3ccc(C)cc3)n3c2CC...</td>\n",
       "      <td>324.90662</td>\n",
       "      <td>41.352348</td>\n",
       "      <td>0.5</td>\n",
       "      <td>0.87939107</td>\n",
       "      <td>-11.33060768899999</td>\n",
       "    </tr>\n",
       "    <tr>\n",
       "      <th>4</th>\n",
       "      <td>Clc1cc(NC(=O)CSC2=C(C#N)C3([C@@H](C#N)C([O-])=...</td>\n",
       "      <td>237.92154</td>\n",
       "      <td>66.498077</td>\n",
       "      <td>0.5</td>\n",
       "      <td>0.33508828</td>\n",
       "      <td>-9.59327686</td>\n",
       "    </tr>\n",
       "    <tr>\n",
       "      <th>...</th>\n",
       "      <td>...</td>\n",
       "      <td>...</td>\n",
       "      <td>...</td>\n",
       "      <td>...</td>\n",
       "      <td>...</td>\n",
       "      <td>...</td>\n",
       "    </tr>\n",
       "    <tr>\n",
       "      <th>249451</th>\n",
       "      <td>O=C(NC[C@@H]1c2c(C(C)(C)CC1)cccc2)CN1C(=O)c2c(...</td>\n",
       "      <td>247.09106</td>\n",
       "      <td>46.198566</td>\n",
       "      <td>0.5</td>\n",
       "      <td>0.3561351</td>\n",
       "      <td>-10.79121366</td>\n",
       "    </tr>\n",
       "    <tr>\n",
       "      <th>249452</th>\n",
       "      <td>O=C(C(C)(C)C)N1CCC(C(=O)Nc2ccc(C(=O)c3n(C)ccn3...</td>\n",
       "      <td>354.83856</td>\n",
       "      <td>45.548145</td>\n",
       "      <td>9.4868326</td>\n",
       "      <td>0.29837564</td>\n",
       "      <td>-15.86586804399999</td>\n",
       "    </tr>\n",
       "    <tr>\n",
       "      <th>249453</th>\n",
       "      <td>O=C(N(Cc1ccccc1)C)C(=O)Nc1c(C)cc(C)cc1</td>\n",
       "      <td>163.63152</td>\n",
       "      <td>25.899061</td>\n",
       "      <td>0.5</td>\n",
       "      <td>0.38289079</td>\n",
       "      <td>-10.59000916</td>\n",
       "    </tr>\n",
       "    <tr>\n",
       "      <th>249454</th>\n",
       "      <td>O=C(N)COc1ccc(NC(=O)c2c(C)n(c(C)c2)C2CC2)cc1</td>\n",
       "      <td>254.89915</td>\n",
       "      <td>25.899061</td>\n",
       "      <td>0.5</td>\n",
       "      <td>1.936568</td>\n",
       "      <td>-9.31777235599999</td>\n",
       "    </tr>\n",
       "    <tr>\n",
       "      <th>249455</th>\n",
       "      <td>S(=O)(=O)(N1CCN(C(=O)CC(c2ccccc2)c2ccccc2)CC1)...</td>\n",
       "      <td>200.41637</td>\n",
       "      <td>56.986187</td>\n",
       "      <td>0.5</td>\n",
       "      <td>0.91302472</td>\n",
       "      <td>-8.56184942</td>\n",
       "    </tr>\n",
       "  </tbody>\n",
       "</table>\n",
       "<p>249456 rows × 6 columns</p>\n",
       "</div>"
      ],
      "text/plain": [
       "                                                   smiles PEOE_VSA_POS  \\\n",
       "0             Fc1c(NC(=O)Cc2c3c(oc2)ccc(C(C)(C)C)c3)cccc1    246.68031   \n",
       "1         N(c1cc(-c2n(C)cnn2)cnc1)C1C[C@@H](C)C[C@H](C)C1    252.55515   \n",
       "2       O=C([C@H](Oc1ccc(-c2ccc(C#N)cc2)cc1)c1ccccc1)N...     257.6842   \n",
       "3       O=C(OCC)[C@H]1CN(C(=O)c2nc(-c3ccc(C)cc3)n3c2CC...    324.90662   \n",
       "4       Clc1cc(NC(=O)CSC2=C(C#N)C3([C@@H](C#N)C([O-])=...    237.92154   \n",
       "...                                                   ...          ...   \n",
       "249451  O=C(NC[C@@H]1c2c(C(C)(C)CC1)cccc2)CN1C(=O)c2c(...    247.09106   \n",
       "249452  O=C(C(C)(C)C)N1CCC(C(=O)Nc2ccc(C(=O)c3n(C)ccn3...    354.83856   \n",
       "249453             O=C(N(Cc1ccccc1)C)C(=O)Nc1c(C)cc(C)cc1    163.63152   \n",
       "249454       O=C(N)COc1ccc(NC(=O)c2c(C)n(c(C)c2)C2CC2)cc1    254.89915   \n",
       "249455  S(=O)(=O)(N1CCN(C(=O)CC(c2ccccc2)c2ccccc2)CC1)...    200.41637   \n",
       "\n",
       "        vsa_other vsurf_DW12   vsurf_ID3                 lnK  \n",
       "0        45.97028        0.5  0.75540346        -10.11862364  \n",
       "1       35.981079        0.5  0.77122784        -10.71926165  \n",
       "2       33.249039        0.5  0.76718211        -10.95060530  \n",
       "3       41.352348        0.5  0.87939107  -11.33060768899999  \n",
       "4       66.498077        0.5  0.33508828         -9.59327686  \n",
       "...           ...        ...         ...                 ...  \n",
       "249451  46.198566        0.5   0.3561351        -10.79121366  \n",
       "249452  45.548145  9.4868326  0.29837564  -15.86586804399999  \n",
       "249453  25.899061        0.5  0.38289079        -10.59000916  \n",
       "249454  25.899061        0.5    1.936568   -9.31777235599999  \n",
       "249455  56.986187        0.5  0.91302472         -8.56184942  \n",
       "\n",
       "[249456 rows x 6 columns]"
      ]
     },
     "execution_count": 23,
     "metadata": {},
     "output_type": "execute_result"
    }
   ],
   "source": [
    "with open('../data/dataJ_250k_rndm_zinc_drugs_clean_wdescriptor_wlnKD.txt') as f:\n",
    "    lines = f.readlines()\n",
    "\n",
    "df = pd.DataFrame([sub[:-2].split(\",\") for sub in lines[1:]])\n",
    "df.columns = lines[0][:-2].split(',')\n",
    "df"
   ]
  },
  {
   "cell_type": "code",
   "execution_count": 24,
   "metadata": {},
   "outputs": [
    {
     "data": {
      "text/plain": [
       "['CCCCCCC1=NN2C(=N)/C(=C\\\\c3cc(C)n(-c4ccc(C)cc4C)c3C)C(=O)N=C2S1',\n",
       " 'COCC[C@@H](C)C(=O)N(C)Cc1ccc(O)cc1',\n",
       " 'C=CCn1c(S[C@H](C)c2nc3sc(C)c(C)c3c(=O)[nH]2)nnc1C1CC1',\n",
       " 'C[NH+](C/C=C/c1ccco1)CCC(F)(F)F',\n",
       " 'COc1ccc(N2C(=O)C(=O)N(CN3CCC(c4nc5ccccc5s4)CC3)C2=O)cc1']"
      ]
     },
     "execution_count": 24,
     "metadata": {},
     "output_type": "execute_result"
    }
   ],
   "source": [
    "data[:5]"
   ]
  },
  {
   "cell_type": "code",
   "execution_count": 25,
   "metadata": {},
   "outputs": [
    {
     "data": {
      "text/plain": [
       "220011"
      ]
     },
     "execution_count": 25,
     "metadata": {},
     "output_type": "execute_result"
    }
   ],
   "source": [
    "len(data)"
   ]
  },
  {
   "cell_type": "code",
   "execution_count": 31,
   "metadata": {},
   "outputs": [
    {
     "data": {
      "text/html": [
       "<div>\n",
       "<style scoped>\n",
       "    .dataframe tbody tr th:only-of-type {\n",
       "        vertical-align: middle;\n",
       "    }\n",
       "\n",
       "    .dataframe tbody tr th {\n",
       "        vertical-align: top;\n",
       "    }\n",
       "\n",
       "    .dataframe thead th {\n",
       "        text-align: right;\n",
       "    }\n",
       "</style>\n",
       "<table border=\"1\" class=\"dataframe\">\n",
       "  <thead>\n",
       "    <tr style=\"text-align: right;\">\n",
       "      <th></th>\n",
       "      <th>smiles</th>\n",
       "      <th>PEOE_VSA_POS</th>\n",
       "      <th>vsa_other</th>\n",
       "      <th>vsurf_DW12</th>\n",
       "      <th>vsurf_ID3</th>\n",
       "      <th>lnK</th>\n",
       "    </tr>\n",
       "  </thead>\n",
       "  <tbody>\n",
       "  </tbody>\n",
       "</table>\n",
       "</div>"
      ],
      "text/plain": [
       "Empty DataFrame\n",
       "Columns: [smiles, PEOE_VSA_POS, vsa_other, vsurf_DW12, vsurf_ID3, lnK]\n",
       "Index: []"
      ]
     },
     "execution_count": 31,
     "metadata": {},
     "output_type": "execute_result"
    }
   ],
   "source": [
    "df[df['smiles']=='COc1ccc(N2C(=O)C(=O)N(CN3CCC(c4nc5ccccc5s4)CC3)C2=O)cc1']"
   ]
  },
  {
   "cell_type": "code",
   "execution_count": 33,
   "metadata": {
    "scrolled": true
   },
   "outputs": [
    {
     "data": {
      "text/plain": [
       "['Fc1c(NC(=O)Cc2c3c(oc2)ccc(C(C)(C)C)c3)cccc1',\n",
       " 'N(c1cc(-c2n(C)cnn2)cnc1)C1C[C@@H](C)C[C@H](C)C1',\n",
       " 'O=C([C@H](Oc1ccc(-c2ccc(C#N)cc2)cc1)c1ccccc1)N1CCCC1',\n",
       " 'O=C(OCC)[C@H]1CN(C(=O)c2nc(-c3ccc(C)cc3)n3c2CCCCC3)CCC1',\n",
       " 'Clc1cc(NC(=O)CSC2=C(C#N)C3([C@@H](C#N)C([O-])=N2)CCCCC3)ccc1',\n",
       " 'Brc1c([C@@H](O)[C@]([NH+](CC)CC)(CC)C)csc1',\n",
       " 'O=C(N([C@H](C/C(=N/O)/N)C)C)c1cc(O)c(OC)cc1',\n",
       " 'Fc1cc(Nc2c(C(=O)Nc3n[nH]cn3)cccn2)ccc1',\n",
       " 'Brc1cc(/N=C/C=2C(C)=C(C#N)c3n(C=2O)c2c(n3)cccc2)ncc1',\n",
       " 'Brc1cn(C)c(C(=O)N2C[C@@H](C)[C@H]([NH3+])CC2)c1',\n",
       " 'FC(F)(F)c1c(N2C(N)=C(C#N)[C@H](c3c(OCC)ccc(OCC)c3)C=3C(=O)CCCC2=3)cccc1',\n",
       " 'S([C@@H](C(=O)NC1CCC(C)CC1)C)C=1N(C)C(=O)c2c(N=1)ccc(C)c2',\n",
       " 'Fc1c2c(c(F)cc1)CCN(C(=O)C1(O)Cc3c(cccc3)C1)C2',\n",
       " 'O=C(N1CCC2(N(C)C(=O)[C@@H](c3ccccc3)C2)CC1)c1c(C)cccc1',\n",
       " 'O=C(Nc1n(C)nc(CCC)c1)CN1C(=O)C2(NC1=O)CCC(C)CC2',\n",
       " 'S(CC(=O)NC[C@H]1OCCC1)c1nc(CC(C)C)nc2N(C)C(=O)N(C)C(=O)c12',\n",
       " 'O=C(Nc1c(C(=O)NCc2ccc(C)cc2)cccc1)[C@H]1CN(c2ccc(C)cc2)C(=O)C1',\n",
       " 'S=C(NC(=O)CCCC)Nc1c(C(=O)N2CCOCC2)cccc1',\n",
       " 'S(CC(=O)NC=1C(=O)N(N(C)C=1C)c1ccccc1)C1=Nc2sc3c(c2C(=O)N1)CCCC3',\n",
       " 'Clc1cc(O[C@@H](C(=O)N2CCC(n3nccc3)CC2)C(C)C)ccc1',\n",
       " 'Fc1c(F)cccc1[C@H]([NH2+][C@@H](CC(=O)N(CC)CC)C)C',\n",
       " 'O=C(CCc1ccccc1)N1Cc2nc(C)nc(Nc3sc(C)cn3)c2CC1',\n",
       " 'O=C(NCCNC(=O)c1cnccc1)N1C[C@@H]2[C@@H](C1)CC=CC2',\n",
       " 'O=C1N(CCO)c2c(N1CCO)cccc2',\n",
       " 'O=C(OC)Cc1nc(NC(=O)Cc2c3c(oc2)cc(C)cc3)sc1',\n",
       " 'S(=O)(=O)(N[C@H]1C(=O)N(c2cc(C)c(C)cc2)CC1)c1c(C)cccc1',\n",
       " 'O=C(NC1CC1)CN1CCN(C(=O)N[C@@H](C[C@H](CC)C)C)CC1',\n",
       " 'O=C(Nc1c2c(n3c1C(=O)N([C@](C(=O)NC1CCCCC1)(C)C3)C1CCCCC1)cccc2)C',\n",
       " 'N#Cc1c(NC[C@H]2[C@@]3(c4c(cccc4)CC3)C2)cncc1',\n",
       " 'O=C(NC[C@@H]1[C@@H](C(C)C)OCC1)C=1C(=O)N2C(C(C)=CC=C2)=NC=1',\n",
       " 'Clc1c(NC(=O)/C=C/c2ccc(C(=O)NC)cc2)c(C)cc(C)n1',\n",
       " 'O=C(NCC1=C(C)N=NC1)c1c2c(N(C(C)C)NC2)nc(-c2ccccc2)c1',\n",
       " 'Clc1ccc(/C=C/C(=O)OCC(=O)N[C@H](C)c2ccccc2)cc1',\n",
       " 'O=C(N(Cc1sc(C)cc1)c1ccc(CC)cc1)C1=NN(C)C(=O)C=C1',\n",
       " 'O=C(OCC)c1c(N2C[C@H]([NH+](CC)CC)CC2)c2c(nn1)cccc2',\n",
       " 'S(=O)(=O)(NCc1cc(OC(C)(C)C)ncc1)c1c(C)ccc(C#N)c1',\n",
       " 'Clc1c(Cl)ccc(C2(C(=O)O[C@@H]3COCC3)CCC2)c1',\n",
       " 'O=C(NCc1c(C)csc1)[C@H]1[C@H]([NH2+]CCC)COC1',\n",
       " 'O=C(NCc1nccc2c1cccc2)C=1C(=O)NC=CC=1',\n",
       " 'S(=O)(=O)(N1[C@H](C)CCCC1)c1ccc(C(=O)C)cc1',\n",
       " 'Clc1cc(N2CCN(c3c([N+](=O)[O-])c(Nc4c5c(nccc5)ccc4)ncn3)CC2)ccc1',\n",
       " 'Fc1c(NC(=O)CCCO)ccc(F)c1',\n",
       " 'O=C(Nc1ccc(OCCC(=O)N)cc1)C[C@@H]1c2c(cccc2)CC1',\n",
       " 'O=C(Nc1sc(C)nn1)COc1c(OC)cc(C)cc1',\n",
       " 'O=C(C)c1c(O)cccc1COc1ccccc1',\n",
       " 'S(=O)(=O)(N1[C@@H](c2onc(-c3ccc(F)cc3)c2)CCCCC1)c1cn(CC)nc1',\n",
       " 'Brc1c[nH+]c(N[C@](NC(=O)c2cc(Cl)ccc2)(C(F)(F)F)C(=O)OC)cc1',\n",
       " 'O=C(Nc1n(-c2ncccn2)nc(C(C)(C)C)c1)c1cc2c(C)c(C)[nH]c2cc1',\n",
       " 'O=C(N[C@@H](C)C1CCCCC1)[C@H](Cc1c(C)onc1C)C',\n",
       " 'O=C(N[C@@H]1CN(C)C(=O)C1)c1c(C(C)C)nn(CC)c1',\n",
       " 'O=C(N(C(C)C)C(C)C)c1c(OC)cccc1-c1c2c(cnc1)cccc2',\n",
       " 'O=C(N[C@H](C)c1ccc(OC)cc1)Cc1c2c(ccc1)cccc2',\n",
       " 'Clc1cc(N2C(=O)C[C@H](c3onc(-c4cnccc4)n3)C2)ccc1',\n",
       " 'O=[N+]([O-])c1c(N2C[C@@H](C)CCC2)ccc(C(=O)Nc2ccc(N3CCOCC3)cc2)c1',\n",
       " 'O=C(N(CC=C)[C@H]1CS(=O)(=O)CC1)C/C=C/c1ccc(C)cc1',\n",
       " 'S(CC(=O)Nc1scnn1)c1oc(-c2cc([N+](=O)[O-])ccc2)nn1',\n",
       " 'Brc1cc(F)c(C(=O)N)c(N(CCc2ccc(F)cc2)C)c1',\n",
       " 'S(CC(=O)Nc1c(OC)cccc1)c1nnc(-c2c(OC)cccc2)cc1',\n",
       " 'FC(F)(F)c1cc(/C=C(/C#N)\\\\C(=O)c2c(C)occ2)ccc1',\n",
       " 'S(CCC(=O)N1c2c(O[C@H](C)C1)ccc(OC)c2)c1ncccc1',\n",
       " 'Fc1c(C)ccc([C@H](NC(=O)[C@H](C)n2nccc2)CC)c1',\n",
       " 'O=C(N[C@H]1C(=O)NOC1)[C@]1(CCC)C[NH2+]CC1',\n",
       " 'O=[N+]([O-])c1cc2c(OC(=O)C(C(=O)N3CCN(Cc4ccccc4)CC3)=C2)cc1',\n",
       " 'O=C1N(CC)C(CC2CC[NH2+]CC2)=NN1CCO',\n",
       " 'Clc1ccc(-c2n(CC=C)c(S[C@@H](C(=O)N3CCC(C)CC3)C)nn2)cc1',\n",
       " 'O(CC)[C@@H]1C(=O)[C@@H]([C@@H](O)CO)OC1=O',\n",
       " 'OCC[NH+](Cc1oc(-c2ccc(C)cc2)nn1)[C@@H]1c2c(cccc2)CC1',\n",
       " 'Fc1c(F)ccc([C@H]([NH2+]Cc2c(C)n(c(C)c2)-c2noc(C)c2)C)c1',\n",
       " 'Clc1c(-n2nc(NC(=O)N[C@H](C)[C@H]3OCCC3)cc2)nccc1',\n",
       " 'Clc1c(OC)cc(S(=O)(=O)N2C(Cc3ccccc3)=NCC2)cc1',\n",
       " 'O=C(Oc1cc(C)c2C(=O)/C(=C/c3c(OC)ccc(OC)c3)/Oc2c1)c1ccncc1',\n",
       " 'Clc1c(NC(=O)N[C@H](c2ccc(OC)cc2)C2CCOCC2)cc(C)cc1',\n",
       " '[NH3+][C@@H]1[C@H](CN([C@@H](Cc2sccc2)C)C)CCCC1',\n",
       " 'FC(F)(F)c1cc2nc([C@@H]([NH3+])C)n(C)c2cc1',\n",
       " 'O(C)c1cc(CN2CCn3c(CCc4ccccc4)nnc3CC2)ccc1',\n",
       " 'O=C(N[C@@H]1CS(=O)(=O)CC1)C1CC[NH2+]CC1',\n",
       " 'O=C(N[C@H](COC)C)[C@H](CCOC)C',\n",
       " 'O=C(Nc1c(C)cc(N(C)C)cc1)c1ccc(CN2CC[NH+](C)CC2)cc1',\n",
       " 'O=C(NC[C@H](C[NH+]1CCCC1)C)[C@@H]1[C@@H](C)[NH2+]CC1',\n",
       " 'O=C(NC[C@H](N1CC[NH+](C)CC1)c1ccc(N(C)C)cc1)C(=O)Nc1c(C#N)cccc1',\n",
       " 'S(=O)(=O)(CC)c1c(N)c(OCC)ncn1',\n",
       " 'O=C(N(Cc1ccc(-c2ccccc2)cc1)C)N[C@H](CC)c1ccncc1',\n",
       " 'S(=O)(=O)(N1[C@@H](C(=O)Nc2ccc(-c3oc4c(n3)cccc4)cc2)CCC1)c1ccc(F)cc1',\n",
       " 'Clc1cc2sc(NC[C@@H](CC)C)nc2cc1',\n",
       " 'S(=O)(=O)(C)N1[C@H](C(=O)N2CCN(c3sc4c(c(C)cc(C)c4)n3)CC2)CCCC1',\n",
       " 'O=C(NC(C)(C)C)Cn1c(-c2oc(CC)nn2)cc2c1cccc2',\n",
       " 'O=C(Nc1ccc(CC)cc1)C=1C(=O)C=CN(c2ccc(CC)cc2)N=1',\n",
       " 'Fc1c(C)ccc(C(=O)N[C@@H]2[C@H](C)[NH2+]CCC2)c1',\n",
       " 'O([C@@H](C)c1cnc2c(c1)cccc2)C(=O)c1nc(C2CC2)n2c1C=CC=C2',\n",
       " 'O=C([O-])[C@H]([NH3+])Cc1c(OCCCC)cccc1',\n",
       " 'Clc1c(NC(=O)C(=O)N2C[C@@H](CCC)OCC2)ccc(C)n1',\n",
       " 'Clc1c(Cl)ccc(C(=O)N2[C@@H](C)C(=O)N(c3cc4c(cc3)CCC4)CC2)c1',\n",
       " 'Fc1c([C@H]2[C@@H](C(=O)NC3(C(=O)OC)CCSCC3)C2)c(F)ccc1',\n",
       " 'Clc1cc(OCC(=O)NC2(C#N)CCCC2)ccc1',\n",
       " 'O=C1N(C)C=CN=C1NCC[NH+]1CCC(OC)CC1',\n",
       " 'Clc1c(NC(=O)N(CC=C)Cc2cc([N+](=O)[O-])ccc2)cc(OC)cc1',\n",
       " 'Clc1cc(C)c(OCC(=O)N/N=C/c2ncccc2)cc1',\n",
       " 'S=C1NC(=O)C(=CNc2c(O)cc([N+](=O)[O-])cc2)C(=O)N1',\n",
       " 'O=C(NCc1occc1)Cn1nc2-c3c(C)c(C(=O)N4CCOCC4)oc3CCc2c1',\n",
       " 'O=C(NCc1ccc(CC)cc1)c1ccc(-c2c(N3CCCCC3)nccn2)cc1']"
      ]
     },
     "execution_count": 33,
     "metadata": {},
     "output_type": "execute_result"
    }
   ],
   "source": [
    "list(df['smiles'].iloc[:100])"
   ]
  },
  {
   "cell_type": "code",
   "execution_count": 42,
   "metadata": {},
   "outputs": [],
   "source": [
    "import numpy as np\n",
    "import rdkit\n",
    "from rdkit.Chem import Descriptors"
   ]
  },
  {
   "cell_type": "code",
   "execution_count": 58,
   "metadata": {},
   "outputs": [],
   "source": [
    "def compute_logP(idx, smile, default_value=np.nan):\n",
    "    try: \n",
    "        mol = rdkit.Chem.MolFromSmiles(smile)\n",
    "        logp = Descriptors.MolLogP(mol)\n",
    "        return logp\n",
    "    except: \n",
    "        print(idx, \" \", smile)\n",
    "        return default_value"
   ]
  },
  {
   "cell_type": "code",
   "execution_count": 60,
   "metadata": {
    "scrolled": true
   },
   "outputs": [
    {
     "name": "stdout",
     "output_type": "stream",
     "text": [
      "0\n",
      "1000\n",
      "2000\n",
      "3000\n",
      "4000\n",
      "5000\n",
      "6000\n",
      "7000\n",
      "8000\n",
      "9000\n",
      "10000\n",
      "11000\n",
      "12000\n",
      "13000\n",
      "14000\n",
      "15000\n",
      "16000\n",
      "17000\n",
      "18000\n",
      "19000\n",
      "20000\n",
      "21000\n",
      "22000\n",
      "23000\n",
      "24000\n",
      "25000\n",
      "26000\n",
      "27000\n",
      "28000\n",
      "29000\n",
      "30000\n",
      "31000\n",
      "32000\n",
      "33000\n",
      "34000\n",
      "35000\n",
      "36000\n",
      "37000\n",
      "38000\n",
      "39000\n",
      "40000\n",
      "41000\n",
      "42000\n",
      "43000\n",
      "44000\n",
      "45000\n",
      "46000\n",
      "47000\n",
      "48000\n",
      "49000\n",
      "50000\n",
      "51000\n",
      "52000\n",
      "53000\n",
      "54000\n",
      "55000\n",
      "56000\n",
      "57000\n",
      "58000\n",
      "59000\n",
      "60000\n",
      "61000\n",
      "62000\n",
      "63000\n",
      "64000\n",
      "65000\n",
      "66000\n",
      "67000\n",
      "68000\n",
      "69000\n",
      "70000\n",
      "71000\n",
      "72000\n",
      "73000\n",
      "74000\n",
      "75000\n",
      "76000\n",
      "77000\n",
      "78000\n",
      "79000\n",
      "80000\n",
      "81000\n",
      "82000\n",
      "83000\n",
      "84000\n",
      "85000\n",
      "86000\n",
      "87000\n",
      "88000\n",
      "89000\n",
      "90000\n",
      "91000\n",
      "92000\n",
      "93000\n",
      "94000\n",
      "95000\n",
      "96000\n",
      "97000\n",
      "98000\n",
      "99000\n",
      "100000\n",
      "101000\n",
      "102000\n",
      "103000\n",
      "104000\n",
      "105000\n",
      "106000\n",
      "107000\n",
      "108000\n",
      "109000\n",
      "110000\n",
      "111000\n",
      "112000\n",
      "113000\n",
      "114000\n",
      "115000\n",
      "116000\n",
      "117000\n",
      "118000\n",
      "119000\n",
      "120000\n",
      "121000\n",
      "122000\n",
      "123000\n",
      "124000\n",
      "125000\n",
      "126000\n",
      "127000\n",
      "128000\n",
      "129000\n",
      "130000\n",
      "131000\n",
      "132000\n",
      "133000\n",
      "134000\n",
      "135000\n",
      "136000\n",
      "137000\n",
      "138000\n",
      "139000\n",
      "140000\n",
      "141000\n",
      "142000\n",
      "143000\n",
      "144000\n",
      "145000\n",
      "146000\n",
      "147000\n",
      "148000\n",
      "149000\n",
      "150000\n",
      "151000\n",
      "152000\n",
      "153000\n",
      "154000\n",
      "155000\n",
      "156000\n",
      "157000\n",
      "158000\n",
      "159000\n",
      "160000\n",
      "161000\n",
      "162000\n",
      "163000\n",
      "164000\n",
      "165000\n",
      "166000\n",
      "167000\n",
      "168000\n",
      "169000\n",
      "170000\n",
      "171000\n",
      "172000\n",
      "173000\n",
      "174000\n",
      "175000\n",
      "176000\n",
      "177000\n",
      "178000\n",
      "179000\n",
      "180000\n",
      "181000\n",
      "182000\n",
      "183000\n",
      "184000\n",
      "185000\n",
      "186000\n",
      "187000\n",
      "188000\n",
      "189000\n",
      "190000\n",
      "191000\n",
      "192000\n",
      "193000\n",
      "194000\n",
      "195000\n",
      "196000\n",
      "197000\n",
      "198000\n",
      "199000\n",
      "200000\n",
      "201000\n",
      "202000\n",
      "203000\n",
      "204000\n",
      "205000\n",
      "206000\n",
      "207000\n",
      "208000\n",
      "209000\n",
      "210000\n",
      "211000\n",
      "212000\n",
      "213000\n",
      "214000\n",
      "215000\n",
      "216000\n",
      "217000\n",
      "218000\n",
      "219000\n",
      "220000\n",
      "221000\n",
      "222000\n",
      "223000\n",
      "224000\n",
      "225000\n",
      "226000\n",
      "227000\n",
      "228000\n",
      "229000\n",
      "230000\n",
      "231000\n",
      "232000\n",
      "233000\n",
      "234000\n",
      "235000\n",
      "236000\n",
      "237000\n",
      "238000\n",
      "239000\n",
      "240000\n",
      "241000\n",
      "242000\n",
      "243000\n",
      "244000\n",
      "245000\n",
      "246000\n",
      "247000\n",
      "248000\n",
      "249000\n"
     ]
    }
   ],
   "source": [
    "logP_list = []\n",
    "\n",
    "for i in range(len(df)):\n",
    "    smile = df.iloc[i]['smiles']\n",
    "    logP_list.append(compute_logP(i, smile))\n",
    "    if i % 1000 == 0:\n",
    "        print(i)"
   ]
  },
  {
   "cell_type": "code",
   "execution_count": 61,
   "metadata": {},
   "outputs": [],
   "source": [
    "df['logP'] = logP_list"
   ]
  },
  {
   "cell_type": "code",
   "execution_count": null,
   "metadata": {},
   "outputs": [],
   "source": []
  },
  {
   "cell_type": "code",
   "execution_count": 45,
   "metadata": {},
   "outputs": [],
   "source": [
    "generated_samples = ['lCC1COCC1NS(=O)(=O)c1ccccc1',\n",
    "'O=C1CCC(NC(=O)c2ccoc2)C1',\n",
    "'Cc1nc(CNC(=O)c2cccc3ccccc23)no1',\n",
    "'Cc1noc(-c2ccccc2N2CCC2C(=O)N2CCCC2)n1',\n",
    "'O=C(c1ccccc1NS(=O)(=O)C1CCCCC1)N1CCCC1',\n",
    "'O=C(c1ccsc1)N1CCCC1',\n",
    "'CC([NH3+])c1cccc(N)c1',\n",
    "'CON=Cc1cc(N)[nH]n1',\n",
    "'O=Cn1ccc(CS)n1',\n",
    "'CC1=[NH+]CC(NC(=O)CS)S1',]"
   ]
  },
  {
   "cell_type": "code",
   "execution_count": 53,
   "metadata": {},
   "outputs": [
    {
     "name": "stderr",
     "output_type": "stream",
     "text": [
      "RDKit ERROR: [20:25:36] SMILES Parse Error: syntax error while parsing: lCC1COCC1NS(=O)(=O)c1ccccc1\n",
      "RDKit ERROR: [20:25:36] SMILES Parse Error: Failed parsing SMILES 'lCC1COCC1NS(=O)(=O)c1ccccc1' for input: 'lCC1COCC1NS(=O)(=O)c1ccccc1'\n"
     ]
    },
    {
     "ename": "ArgumentError",
     "evalue": "Python argument types in\n    rdkit.Chem.rdMolDescriptors.CalcCrippenDescriptors(NoneType)\ndid not match C++ signature:\n    CalcCrippenDescriptors(RDKit::ROMol mol, bool includeHs=True, bool force=False)",
     "output_type": "error",
     "traceback": [
      "\u001b[0;31m---------------------------------------------------------------------------\u001b[0m",
      "\u001b[0;31mArgumentError\u001b[0m                             Traceback (most recent call last)",
      "\u001b[0;32m<ipython-input-53-b5080db1b631>\u001b[0m in \u001b[0;36m<module>\u001b[0;34m\u001b[0m\n\u001b[0;32m----> 1\u001b[0;31m \u001b[0mcompute_logP\u001b[0m\u001b[0;34m(\u001b[0m\u001b[0;34m'lCC1COCC1NS(=O)(=O)c1ccccc1'\u001b[0m\u001b[0;34m)\u001b[0m\u001b[0;34m\u001b[0m\u001b[0;34m\u001b[0m\u001b[0m\n\u001b[0m",
      "\u001b[0;32m<ipython-input-43-71e4026c8d00>\u001b[0m in \u001b[0;36mcompute_logP\u001b[0;34m(smile, default_value)\u001b[0m\n\u001b[1;32m      2\u001b[0m \u001b[0;31m#     try:\u001b[0m\u001b[0;34m\u001b[0m\u001b[0;34m\u001b[0m\u001b[0;34m\u001b[0m\u001b[0m\n\u001b[1;32m      3\u001b[0m     \u001b[0mmol\u001b[0m \u001b[0;34m=\u001b[0m \u001b[0mrdkit\u001b[0m\u001b[0;34m.\u001b[0m\u001b[0mChem\u001b[0m\u001b[0;34m.\u001b[0m\u001b[0mMolFromSmiles\u001b[0m\u001b[0;34m(\u001b[0m\u001b[0msmile\u001b[0m\u001b[0;34m)\u001b[0m\u001b[0;34m\u001b[0m\u001b[0;34m\u001b[0m\u001b[0m\n\u001b[0;32m----> 4\u001b[0;31m     \u001b[0mlogp\u001b[0m \u001b[0;34m=\u001b[0m \u001b[0mDescriptors\u001b[0m\u001b[0;34m.\u001b[0m\u001b[0mMolLogP\u001b[0m\u001b[0;34m(\u001b[0m\u001b[0mmol\u001b[0m\u001b[0;34m)\u001b[0m\u001b[0;34m\u001b[0m\u001b[0;34m\u001b[0m\u001b[0m\n\u001b[0m\u001b[1;32m      5\u001b[0m     \u001b[0;32mreturn\u001b[0m \u001b[0mlogp\u001b[0m\u001b[0;34m\u001b[0m\u001b[0;34m\u001b[0m\u001b[0m\n\u001b[1;32m      6\u001b[0m \u001b[0;31m#     except:\u001b[0m\u001b[0;34m\u001b[0m\u001b[0;34m\u001b[0m\u001b[0;34m\u001b[0m\u001b[0m\n",
      "\u001b[0;32m/opt/anaconda3/lib/python3.8/site-packages/rdkit/Chem/Crippen.py\u001b[0m in \u001b[0;36m<lambda>\u001b[0;34m(*x, **y)\u001b[0m\n\u001b[1;32m    168\u001b[0m \u001b[0m_pyMolMR\u001b[0m\u001b[0;34m.\u001b[0m\u001b[0mversion\u001b[0m \u001b[0;34m=\u001b[0m \u001b[0;34m\"1.1.0\"\u001b[0m\u001b[0;34m\u001b[0m\u001b[0;34m\u001b[0m\u001b[0m\n\u001b[1;32m    169\u001b[0m \u001b[0;34m\u001b[0m\u001b[0m\n\u001b[0;32m--> 170\u001b[0;31m \u001b[0mMolLogP\u001b[0m \u001b[0;34m=\u001b[0m \u001b[0;32mlambda\u001b[0m \u001b[0;34m*\u001b[0m\u001b[0mx\u001b[0m\u001b[0;34m,\u001b[0m \u001b[0;34m**\u001b[0m\u001b[0my\u001b[0m\u001b[0;34m:\u001b[0m \u001b[0mrdMolDescriptors\u001b[0m\u001b[0;34m.\u001b[0m\u001b[0mCalcCrippenDescriptors\u001b[0m\u001b[0;34m(\u001b[0m\u001b[0;34m*\u001b[0m\u001b[0mx\u001b[0m\u001b[0;34m,\u001b[0m \u001b[0;34m**\u001b[0m\u001b[0my\u001b[0m\u001b[0;34m)\u001b[0m\u001b[0;34m[\u001b[0m\u001b[0;36m0\u001b[0m\u001b[0;34m]\u001b[0m\u001b[0;34m\u001b[0m\u001b[0;34m\u001b[0m\u001b[0m\n\u001b[0m\u001b[1;32m    171\u001b[0m \u001b[0mMolLogP\u001b[0m\u001b[0;34m.\u001b[0m\u001b[0mversion\u001b[0m \u001b[0;34m=\u001b[0m \u001b[0mrdMolDescriptors\u001b[0m\u001b[0;34m.\u001b[0m\u001b[0m_CalcCrippenDescriptors_version\u001b[0m\u001b[0;34m\u001b[0m\u001b[0;34m\u001b[0m\u001b[0m\n\u001b[1;32m    172\u001b[0m MolLogP.__doc__ = \"\"\" Wildman-Crippen LogP value\n",
      "\u001b[0;31mArgumentError\u001b[0m: Python argument types in\n    rdkit.Chem.rdMolDescriptors.CalcCrippenDescriptors(NoneType)\ndid not match C++ signature:\n    CalcCrippenDescriptors(RDKit::ROMol mol, bool includeHs=True, bool force=False)"
     ]
    }
   ],
   "source": [
    "compute_logP('lCC1COCC1NS(=O)(=O)c1ccccc1')"
   ]
  },
  {
   "cell_type": "code",
   "execution_count": 57,
   "metadata": {},
   "outputs": [
    {
     "name": "stdout",
     "output_type": "stream",
     "text": [
      "smiles:  lCC1COCC1NS(=O)(=O)c1ccccc1 \t\t, logP:  nan\n",
      "smiles:  O=C1CCC(NC(=O)c2ccoc2)C1 \t\t, logP:  1.1310000000000002\n",
      "smiles:  Cc1nc(CNC(=O)c2cccc3ccccc23)no1 \t\t, logP:  2.461220000000001\n",
      "smiles:  Cc1noc(-c2ccccc2N2CCC2C(=O)N2CCCC2)n1 \t\t, logP:  2.2461199999999995\n",
      "smiles:  O=C(c1ccccc1NS(=O)(=O)C1CCCCC1)N1CCCC1 \t\t, logP:  2.9970000000000017\n",
      "smiles:  O=C(c1ccsc1)N1CCCC1 \t\t, logP:  1.9841\n",
      "smiles:  CC([NH3+])c1cccc(N)c1 \t\t, logP:  0.5716999999999999\n",
      "smiles:  CON=Cc1cc(N)[nH]n1 \t\t, logP:  -0.02779999999999988\n",
      "smiles:  O=Cn1ccc(CS)n1 \t\t, logP:  0.3512\n",
      "smiles:  CC1=[NH+]CC(NC(=O)CS)S1 \t\t, logP:  -1.3956999999999995\n"
     ]
    },
    {
     "name": "stderr",
     "output_type": "stream",
     "text": [
      "RDKit ERROR: [20:26:13] SMILES Parse Error: syntax error while parsing: lCC1COCC1NS(=O)(=O)c1ccccc1\n",
      "RDKit ERROR: [20:26:13] SMILES Parse Error: Failed parsing SMILES 'lCC1COCC1NS(=O)(=O)c1ccccc1' for input: 'lCC1COCC1NS(=O)(=O)c1ccccc1'\n"
     ]
    }
   ],
   "source": [
    "for smile in generated_samples:\n",
    "#     print(\"smiles: \", smile)\n",
    "#     compute_logP(smile)\n",
    "    print(\"smiles: \", smile, \"\\t\\t, logP: \", compute_logP(smile))"
   ]
  },
  {
   "cell_type": "code",
   "execution_count": null,
   "metadata": {},
   "outputs": [],
   "source": []
  }
 ],
 "metadata": {
  "kernelspec": {
   "display_name": "Python 3",
   "language": "python",
   "name": "python3"
  },
  "language_info": {
   "codemirror_mode": {
    "name": "ipython",
    "version": 3
   },
   "file_extension": ".py",
   "mimetype": "text/x-python",
   "name": "python",
   "nbconvert_exporter": "python",
   "pygments_lexer": "ipython3",
   "version": "3.8.3"
  }
 },
 "nbformat": 4,
 "nbformat_minor": 4
}
